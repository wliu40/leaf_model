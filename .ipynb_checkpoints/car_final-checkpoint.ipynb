{
 "cells": [
  {
   "cell_type": "code",
   "execution_count": 1,
   "metadata": {
    "collapsed": true
   },
   "outputs": [],
   "source": [
    "%matplotlib inline\n",
    "import sys\n",
    "import numpy as np\n",
    "import pandas as pd\n",
    "import matplotlib.pyplot as plt\n",
    "import math\n",
    "import os"
   ]
  },
  {
   "cell_type": "markdown",
   "metadata": {},
   "source": [
    "## Load data"
   ]
  },
  {
   "cell_type": "code",
   "execution_count": 2,
   "metadata": {
    "collapsed": true
   },
   "outputs": [],
   "source": [
    "class CSVreader:\n",
    "    \"\"\"\n",
    "    Class to read files.\n",
    "    \"\"\"\n",
    "    def __init__(self, file_path, col_names = None):\n",
    "        self.file_path = file_path\n",
    "        self.col_names = col_names        \n",
    "    def getDataFrame(self):\n",
    "        \"\"\"\n",
    "        Get the data frame in the file_path.\n",
    "        return: dataframe, otherwise throw IO exception\n",
    "        \"\"\"\n",
    "        try:\n",
    "            if(self.col_names):\n",
    "                df = pd.read_csv(self.file_path, names = col_names)\n",
    "            else:\n",
    "                df = pd.read_csv(self.file_path)\n",
    "            return df\n",
    "        except IOError:\n",
    "            print(\"Could not read file:\", self.file_path)"
   ]
  },
  {
   "cell_type": "code",
   "execution_count": 3,
   "metadata": {},
   "outputs": [
    {
     "data": {
      "text/html": [
       "<div>\n",
       "<style>\n",
       "    .dataframe thead tr:only-child th {\n",
       "        text-align: right;\n",
       "    }\n",
       "\n",
       "    .dataframe thead th {\n",
       "        text-align: left;\n",
       "    }\n",
       "\n",
       "    .dataframe tbody tr th {\n",
       "        vertical-align: top;\n",
       "    }\n",
       "</style>\n",
       "<table border=\"1\" class=\"dataframe\">\n",
       "  <thead>\n",
       "    <tr style=\"text-align: right;\">\n",
       "      <th></th>\n",
       "      <th>att1</th>\n",
       "      <th>att2</th>\n",
       "      <th>att3</th>\n",
       "      <th>att4</th>\n",
       "      <th>att5</th>\n",
       "      <th>att6</th>\n",
       "      <th>label</th>\n",
       "    </tr>\n",
       "  </thead>\n",
       "  <tbody>\n",
       "    <tr>\n",
       "      <th>0</th>\n",
       "      <td>vhigh</td>\n",
       "      <td>vhigh</td>\n",
       "      <td>2</td>\n",
       "      <td>2</td>\n",
       "      <td>small</td>\n",
       "      <td>low</td>\n",
       "      <td>unacc</td>\n",
       "    </tr>\n",
       "    <tr>\n",
       "      <th>1</th>\n",
       "      <td>vhigh</td>\n",
       "      <td>vhigh</td>\n",
       "      <td>2</td>\n",
       "      <td>2</td>\n",
       "      <td>small</td>\n",
       "      <td>med</td>\n",
       "      <td>unacc</td>\n",
       "    </tr>\n",
       "    <tr>\n",
       "      <th>2</th>\n",
       "      <td>vhigh</td>\n",
       "      <td>vhigh</td>\n",
       "      <td>2</td>\n",
       "      <td>2</td>\n",
       "      <td>small</td>\n",
       "      <td>high</td>\n",
       "      <td>unacc</td>\n",
       "    </tr>\n",
       "    <tr>\n",
       "      <th>3</th>\n",
       "      <td>vhigh</td>\n",
       "      <td>vhigh</td>\n",
       "      <td>2</td>\n",
       "      <td>2</td>\n",
       "      <td>med</td>\n",
       "      <td>low</td>\n",
       "      <td>unacc</td>\n",
       "    </tr>\n",
       "    <tr>\n",
       "      <th>4</th>\n",
       "      <td>vhigh</td>\n",
       "      <td>vhigh</td>\n",
       "      <td>2</td>\n",
       "      <td>2</td>\n",
       "      <td>med</td>\n",
       "      <td>med</td>\n",
       "      <td>unacc</td>\n",
       "    </tr>\n",
       "  </tbody>\n",
       "</table>\n",
       "</div>"
      ],
      "text/plain": [
       "    att1   att2 att3 att4   att5  att6  label\n",
       "0  vhigh  vhigh    2    2  small   low  unacc\n",
       "1  vhigh  vhigh    2    2  small   med  unacc\n",
       "2  vhigh  vhigh    2    2  small  high  unacc\n",
       "3  vhigh  vhigh    2    2    med   low  unacc\n",
       "4  vhigh  vhigh    2    2    med   med  unacc"
      ]
     },
     "execution_count": 3,
     "metadata": {},
     "output_type": "execute_result"
    }
   ],
   "source": [
    "col_names = [\"att1\", \"att2\", \"att3\", \"att4\", \"att5\", \"att6\", \"label\"] #provide col name if not provided already\n",
    "reader = CSVreader(r\"F:\\1\\car.data\", col_names)\n",
    "ori_df = reader.getDataFrame() #get the original dataframe\n",
    "ori_df.head()"
   ]
  },
  {
   "cell_type": "code",
   "execution_count": 4,
   "metadata": {},
   "outputs": [
    {
     "data": {
      "text/plain": [
       "False"
      ]
     },
     "execution_count": 4,
     "metadata": {},
     "output_type": "execute_result"
    }
   ],
   "source": [
    "ori_df.isnull().values.any() #check if there is any NaN value in original df"
   ]
  },
  {
   "cell_type": "markdown",
   "metadata": {},
   "source": [
    "## Preprocess the data"
   ]
  },
  {
   "cell_type": "code",
   "execution_count": 5,
   "metadata": {
    "collapsed": true
   },
   "outputs": [],
   "source": [
    "class DataProcessor:\n",
    "    \"\"\"\n",
    "    Class to clean the data if necessary.\n",
    "    \"\"\"\n",
    "    def __init__(self):\n",
    "        pass\n",
    "    def getDummyVarsDF(self, df, dummy_fields, drop_fields = True, convert_label = False):\n",
    "        \"\"\"\n",
    "        Clean the data, convert catagories to dummy variables\n",
    "        :param df: dataframe to process\n",
    "        :param dummy_fields: columne names containing catagory attributes\n",
    "        :param drop_fields: drop the categorical fields or not, default is True\n",
    "        :param convert_label: convert the label if necessary, default is False\n",
    "        :return: cleaned dataframe\n",
    "        \"\"\"\n",
    "        label_dict = {}\n",
    "        for each in dummy_fields:\n",
    "            dummies = pd.get_dummies(df[each], prefix=each, drop_first=False)\n",
    "            df = pd.concat([df, dummies], axis=1)\n",
    " \n",
    "        if drop_fields:\n",
    "            df = self.dropAttributes(df, dummy_fields)\n",
    "        if convert_label:\n",
    "            df[\"label\"] = df[\"label\"].astype('category')\n",
    "            label_dict = dict(enumerate(df['label'].cat.categories))\n",
    "            df[\"label\"] = df[\"label\"].cat.codes\n",
    "        return df, label_dict\n",
    "    def splitData(self, df, split_ratio = 0.9):\n",
    "        \"\"\"\n",
    "        Shuffle the data, then split the data to training and testing dataset\n",
    "        :param df: dataframe to process\n",
    "        :param split_ratio: spdefault is .9\n",
    "        :return: train and test dataset\n",
    "        \"\"\"\n",
    "        rows = df.shape[0]\n",
    "        cols = df.shape[1]\n",
    "        print('number of rows:{}\\nnumber of columns:{}'.format(rows, cols))\n",
    "        indices = np.random.permutation(rows)\n",
    "        train_idx, test_idx = indices[:int(rows * split_ratio)], indices[int(rows * split_ratio):]\n",
    "        train, test = df.iloc[train_idx,:], df.iloc[test_idx,:] \n",
    "        print('training data shape:{}'.format(train.shape))\n",
    "        print('testing data shape:{}'.format(test.shape))    \n",
    "        return train, test\n",
    "        \n",
    "    def getXY(self, data, label = \"label\", idx = 1):\n",
    "        \"\"\"\n",
    "        Split the data to x attributes and target\n",
    "        :param data: dataframe to process\n",
    "        :param label: the label of the target\n",
    "        :param idx: by default, assume the label is at the index 0\n",
    "        :return: trainX and trainY\n",
    "        \"\"\"\n",
    "        Y = data[label]\n",
    "        X = data.iloc[:,idx:,]\n",
    "        return X, Y\n",
    "    def dropAttributes(self, df, col_names):\n",
    "        \"\"\"\n",
    "        Drop specific columns of da dataframe given colmun names.\n",
    "        :param df: dataframe to process\n",
    "        :param col_names: the column names needs to be dropped\n",
    "        :return: new dataframe after drop\n",
    "        \"\"\"\n",
    "        if set(col_names).issubset(set(list(df.columns.values))):\n",
    "            df = df.drop(col_names, axis=1)            \n",
    "        else:\n",
    "            print(\"Error: Unknown attributes.\")\n",
    "        return df\n",
    "            \n"
   ]
  },
  {
   "cell_type": "code",
   "execution_count": 6,
   "metadata": {},
   "outputs": [
    {
     "data": {
      "text/html": [
       "<div>\n",
       "<style>\n",
       "    .dataframe thead tr:only-child th {\n",
       "        text-align: right;\n",
       "    }\n",
       "\n",
       "    .dataframe thead th {\n",
       "        text-align: left;\n",
       "    }\n",
       "\n",
       "    .dataframe tbody tr th {\n",
       "        vertical-align: top;\n",
       "    }\n",
       "</style>\n",
       "<table border=\"1\" class=\"dataframe\">\n",
       "  <thead>\n",
       "    <tr style=\"text-align: right;\">\n",
       "      <th></th>\n",
       "      <th>label</th>\n",
       "      <th>att1_high</th>\n",
       "      <th>att1_low</th>\n",
       "      <th>att1_med</th>\n",
       "      <th>att1_vhigh</th>\n",
       "      <th>att2_high</th>\n",
       "      <th>att2_low</th>\n",
       "      <th>att2_med</th>\n",
       "      <th>att2_vhigh</th>\n",
       "      <th>att3_2</th>\n",
       "      <th>...</th>\n",
       "      <th>att3_5more</th>\n",
       "      <th>att4_2</th>\n",
       "      <th>att4_4</th>\n",
       "      <th>att4_more</th>\n",
       "      <th>att5_big</th>\n",
       "      <th>att5_med</th>\n",
       "      <th>att5_small</th>\n",
       "      <th>att6_high</th>\n",
       "      <th>att6_low</th>\n",
       "      <th>att6_med</th>\n",
       "    </tr>\n",
       "  </thead>\n",
       "  <tbody>\n",
       "    <tr>\n",
       "      <th>0</th>\n",
       "      <td>2</td>\n",
       "      <td>0</td>\n",
       "      <td>0</td>\n",
       "      <td>0</td>\n",
       "      <td>1</td>\n",
       "      <td>0</td>\n",
       "      <td>0</td>\n",
       "      <td>0</td>\n",
       "      <td>1</td>\n",
       "      <td>1</td>\n",
       "      <td>...</td>\n",
       "      <td>0</td>\n",
       "      <td>1</td>\n",
       "      <td>0</td>\n",
       "      <td>0</td>\n",
       "      <td>0</td>\n",
       "      <td>0</td>\n",
       "      <td>1</td>\n",
       "      <td>0</td>\n",
       "      <td>1</td>\n",
       "      <td>0</td>\n",
       "    </tr>\n",
       "    <tr>\n",
       "      <th>1</th>\n",
       "      <td>2</td>\n",
       "      <td>0</td>\n",
       "      <td>0</td>\n",
       "      <td>0</td>\n",
       "      <td>1</td>\n",
       "      <td>0</td>\n",
       "      <td>0</td>\n",
       "      <td>0</td>\n",
       "      <td>1</td>\n",
       "      <td>1</td>\n",
       "      <td>...</td>\n",
       "      <td>0</td>\n",
       "      <td>1</td>\n",
       "      <td>0</td>\n",
       "      <td>0</td>\n",
       "      <td>0</td>\n",
       "      <td>0</td>\n",
       "      <td>1</td>\n",
       "      <td>0</td>\n",
       "      <td>0</td>\n",
       "      <td>1</td>\n",
       "    </tr>\n",
       "    <tr>\n",
       "      <th>2</th>\n",
       "      <td>2</td>\n",
       "      <td>0</td>\n",
       "      <td>0</td>\n",
       "      <td>0</td>\n",
       "      <td>1</td>\n",
       "      <td>0</td>\n",
       "      <td>0</td>\n",
       "      <td>0</td>\n",
       "      <td>1</td>\n",
       "      <td>1</td>\n",
       "      <td>...</td>\n",
       "      <td>0</td>\n",
       "      <td>1</td>\n",
       "      <td>0</td>\n",
       "      <td>0</td>\n",
       "      <td>0</td>\n",
       "      <td>0</td>\n",
       "      <td>1</td>\n",
       "      <td>1</td>\n",
       "      <td>0</td>\n",
       "      <td>0</td>\n",
       "    </tr>\n",
       "    <tr>\n",
       "      <th>3</th>\n",
       "      <td>2</td>\n",
       "      <td>0</td>\n",
       "      <td>0</td>\n",
       "      <td>0</td>\n",
       "      <td>1</td>\n",
       "      <td>0</td>\n",
       "      <td>0</td>\n",
       "      <td>0</td>\n",
       "      <td>1</td>\n",
       "      <td>1</td>\n",
       "      <td>...</td>\n",
       "      <td>0</td>\n",
       "      <td>1</td>\n",
       "      <td>0</td>\n",
       "      <td>0</td>\n",
       "      <td>0</td>\n",
       "      <td>1</td>\n",
       "      <td>0</td>\n",
       "      <td>0</td>\n",
       "      <td>1</td>\n",
       "      <td>0</td>\n",
       "    </tr>\n",
       "    <tr>\n",
       "      <th>4</th>\n",
       "      <td>2</td>\n",
       "      <td>0</td>\n",
       "      <td>0</td>\n",
       "      <td>0</td>\n",
       "      <td>1</td>\n",
       "      <td>0</td>\n",
       "      <td>0</td>\n",
       "      <td>0</td>\n",
       "      <td>1</td>\n",
       "      <td>1</td>\n",
       "      <td>...</td>\n",
       "      <td>0</td>\n",
       "      <td>1</td>\n",
       "      <td>0</td>\n",
       "      <td>0</td>\n",
       "      <td>0</td>\n",
       "      <td>1</td>\n",
       "      <td>0</td>\n",
       "      <td>0</td>\n",
       "      <td>0</td>\n",
       "      <td>1</td>\n",
       "    </tr>\n",
       "  </tbody>\n",
       "</table>\n",
       "<p>5 rows × 22 columns</p>\n",
       "</div>"
      ],
      "text/plain": [
       "   label  att1_high  att1_low  att1_med  att1_vhigh  att2_high  att2_low  \\\n",
       "0      2          0         0         0           1          0         0   \n",
       "1      2          0         0         0           1          0         0   \n",
       "2      2          0         0         0           1          0         0   \n",
       "3      2          0         0         0           1          0         0   \n",
       "4      2          0         0         0           1          0         0   \n",
       "\n",
       "   att2_med  att2_vhigh  att3_2    ...     att3_5more  att4_2  att4_4  \\\n",
       "0         0           1       1    ...              0       1       0   \n",
       "1         0           1       1    ...              0       1       0   \n",
       "2         0           1       1    ...              0       1       0   \n",
       "3         0           1       1    ...              0       1       0   \n",
       "4         0           1       1    ...              0       1       0   \n",
       "\n",
       "   att4_more  att5_big  att5_med  att5_small  att6_high  att6_low  att6_med  \n",
       "0          0         0         0           1          0         1         0  \n",
       "1          0         0         0           1          0         0         1  \n",
       "2          0         0         0           1          1         0         0  \n",
       "3          0         0         1           0          0         1         0  \n",
       "4          0         0         1           0          0         0         1  \n",
       "\n",
       "[5 rows x 22 columns]"
      ]
     },
     "execution_count": 6,
     "metadata": {},
     "output_type": "execute_result"
    }
   ],
   "source": [
    "dp = DataProcessor()\n",
    "dummy_fields = col_names[:-1]# the last column is the label\n",
    "df, label_dict = dp.getDummyVarsDF(ori_df, dummy_fields, convert_label=True)\n",
    "df.head()"
   ]
  },
  {
   "cell_type": "code",
   "execution_count": 7,
   "metadata": {},
   "outputs": [
    {
     "name": "stdout",
     "output_type": "stream",
     "text": [
      "number of rows:1728\n",
      "number of columns:22\n",
      "training data shape:(1555, 22)\n",
      "testing data shape:(173, 22)\n"
     ]
    }
   ],
   "source": [
    "train, test = dp.splitData(df)\n",
    "trainX, trainY = dp.getXY(train)\n",
    "testX, testY = dp.getXY(test)"
   ]
  },
  {
   "cell_type": "code",
   "execution_count": 8,
   "metadata": {},
   "outputs": [
    {
     "data": {
      "text/html": [
       "<div>\n",
       "<style>\n",
       "    .dataframe thead tr:only-child th {\n",
       "        text-align: right;\n",
       "    }\n",
       "\n",
       "    .dataframe thead th {\n",
       "        text-align: left;\n",
       "    }\n",
       "\n",
       "    .dataframe tbody tr th {\n",
       "        vertical-align: top;\n",
       "    }\n",
       "</style>\n",
       "<table border=\"1\" class=\"dataframe\">\n",
       "  <thead>\n",
       "    <tr style=\"text-align: right;\">\n",
       "      <th></th>\n",
       "      <th>att1_high</th>\n",
       "      <th>att1_low</th>\n",
       "      <th>att1_med</th>\n",
       "      <th>att1_vhigh</th>\n",
       "      <th>att2_high</th>\n",
       "      <th>att2_low</th>\n",
       "      <th>att2_med</th>\n",
       "      <th>att2_vhigh</th>\n",
       "      <th>att3_2</th>\n",
       "      <th>att3_3</th>\n",
       "      <th>...</th>\n",
       "      <th>att3_5more</th>\n",
       "      <th>att4_2</th>\n",
       "      <th>att4_4</th>\n",
       "      <th>att4_more</th>\n",
       "      <th>att5_big</th>\n",
       "      <th>att5_med</th>\n",
       "      <th>att5_small</th>\n",
       "      <th>att6_high</th>\n",
       "      <th>att6_low</th>\n",
       "      <th>att6_med</th>\n",
       "    </tr>\n",
       "  </thead>\n",
       "  <tbody>\n",
       "    <tr>\n",
       "      <th>1528</th>\n",
       "      <td>0</td>\n",
       "      <td>1</td>\n",
       "      <td>0</td>\n",
       "      <td>0</td>\n",
       "      <td>0</td>\n",
       "      <td>0</td>\n",
       "      <td>1</td>\n",
       "      <td>0</td>\n",
       "      <td>1</td>\n",
       "      <td>0</td>\n",
       "      <td>...</td>\n",
       "      <td>0</td>\n",
       "      <td>0</td>\n",
       "      <td>1</td>\n",
       "      <td>0</td>\n",
       "      <td>1</td>\n",
       "      <td>0</td>\n",
       "      <td>0</td>\n",
       "      <td>0</td>\n",
       "      <td>0</td>\n",
       "      <td>1</td>\n",
       "    </tr>\n",
       "    <tr>\n",
       "      <th>406</th>\n",
       "      <td>0</td>\n",
       "      <td>0</td>\n",
       "      <td>0</td>\n",
       "      <td>1</td>\n",
       "      <td>0</td>\n",
       "      <td>1</td>\n",
       "      <td>0</td>\n",
       "      <td>0</td>\n",
       "      <td>0</td>\n",
       "      <td>0</td>\n",
       "      <td>...</td>\n",
       "      <td>1</td>\n",
       "      <td>1</td>\n",
       "      <td>0</td>\n",
       "      <td>0</td>\n",
       "      <td>0</td>\n",
       "      <td>0</td>\n",
       "      <td>1</td>\n",
       "      <td>0</td>\n",
       "      <td>0</td>\n",
       "      <td>1</td>\n",
       "    </tr>\n",
       "    <tr>\n",
       "      <th>325</th>\n",
       "      <td>0</td>\n",
       "      <td>0</td>\n",
       "      <td>0</td>\n",
       "      <td>1</td>\n",
       "      <td>0</td>\n",
       "      <td>1</td>\n",
       "      <td>0</td>\n",
       "      <td>0</td>\n",
       "      <td>1</td>\n",
       "      <td>0</td>\n",
       "      <td>...</td>\n",
       "      <td>0</td>\n",
       "      <td>1</td>\n",
       "      <td>0</td>\n",
       "      <td>0</td>\n",
       "      <td>0</td>\n",
       "      <td>0</td>\n",
       "      <td>1</td>\n",
       "      <td>0</td>\n",
       "      <td>0</td>\n",
       "      <td>1</td>\n",
       "    </tr>\n",
       "    <tr>\n",
       "      <th>696</th>\n",
       "      <td>1</td>\n",
       "      <td>0</td>\n",
       "      <td>0</td>\n",
       "      <td>0</td>\n",
       "      <td>0</td>\n",
       "      <td>0</td>\n",
       "      <td>1</td>\n",
       "      <td>0</td>\n",
       "      <td>0</td>\n",
       "      <td>1</td>\n",
       "      <td>...</td>\n",
       "      <td>0</td>\n",
       "      <td>0</td>\n",
       "      <td>0</td>\n",
       "      <td>1</td>\n",
       "      <td>0</td>\n",
       "      <td>1</td>\n",
       "      <td>0</td>\n",
       "      <td>0</td>\n",
       "      <td>1</td>\n",
       "      <td>0</td>\n",
       "    </tr>\n",
       "    <tr>\n",
       "      <th>1506</th>\n",
       "      <td>0</td>\n",
       "      <td>1</td>\n",
       "      <td>0</td>\n",
       "      <td>0</td>\n",
       "      <td>1</td>\n",
       "      <td>0</td>\n",
       "      <td>0</td>\n",
       "      <td>0</td>\n",
       "      <td>0</td>\n",
       "      <td>0</td>\n",
       "      <td>...</td>\n",
       "      <td>1</td>\n",
       "      <td>0</td>\n",
       "      <td>0</td>\n",
       "      <td>1</td>\n",
       "      <td>0</td>\n",
       "      <td>1</td>\n",
       "      <td>0</td>\n",
       "      <td>0</td>\n",
       "      <td>1</td>\n",
       "      <td>0</td>\n",
       "    </tr>\n",
       "  </tbody>\n",
       "</table>\n",
       "<p>5 rows × 21 columns</p>\n",
       "</div>"
      ],
      "text/plain": [
       "      att1_high  att1_low  att1_med  att1_vhigh  att2_high  att2_low  \\\n",
       "1528          0         1         0           0          0         0   \n",
       "406           0         0         0           1          0         1   \n",
       "325           0         0         0           1          0         1   \n",
       "696           1         0         0           0          0         0   \n",
       "1506          0         1         0           0          1         0   \n",
       "\n",
       "      att2_med  att2_vhigh  att3_2  att3_3    ...     att3_5more  att4_2  \\\n",
       "1528         1           0       1       0    ...              0       0   \n",
       "406          0           0       0       0    ...              1       1   \n",
       "325          0           0       1       0    ...              0       1   \n",
       "696          1           0       0       1    ...              0       0   \n",
       "1506         0           0       0       0    ...              1       0   \n",
       "\n",
       "      att4_4  att4_more  att5_big  att5_med  att5_small  att6_high  att6_low  \\\n",
       "1528       1          0         1         0           0          0         0   \n",
       "406        0          0         0         0           1          0         0   \n",
       "325        0          0         0         0           1          0         0   \n",
       "696        0          1         0         1           0          0         1   \n",
       "1506       0          1         0         1           0          0         1   \n",
       "\n",
       "      att6_med  \n",
       "1528         1  \n",
       "406          1  \n",
       "325          1  \n",
       "696          0  \n",
       "1506         0  \n",
       "\n",
       "[5 rows x 21 columns]"
      ]
     },
     "execution_count": 8,
     "metadata": {},
     "output_type": "execute_result"
    }
   ],
   "source": [
    "trainX.head()"
   ]
  },
  {
   "cell_type": "code",
   "execution_count": 9,
   "metadata": {},
   "outputs": [
    {
     "data": {
      "text/plain": [
       "1528    1\n",
       "406     2\n",
       "325     2\n",
       "696     2\n",
       "1506    2\n",
       "Name: label, dtype: int8"
      ]
     },
     "execution_count": 9,
     "metadata": {},
     "output_type": "execute_result"
    }
   ],
   "source": [
    "trainY.head()"
   ]
  },
  {
   "cell_type": "code",
   "execution_count": 10,
   "metadata": {},
   "outputs": [
    {
     "name": "stdout",
     "output_type": "stream",
     "text": [
      "(1555, 21)\n",
      "(173, 21)\n"
     ]
    }
   ],
   "source": [
    "print(trainX.shape)\n",
    "print(testX.shape)"
   ]
  },
  {
   "cell_type": "markdown",
   "metadata": {},
   "source": [
    "## Build and compare models using different algorithms"
   ]
  },
  {
   "cell_type": "code",
   "execution_count": 11,
   "metadata": {
    "collapsed": true
   },
   "outputs": [],
   "source": [
    "from sklearn import linear_model, datasets\n",
    "from sklearn.svm import SVC\n",
    "from sklearn.naive_bayes import MultinomialNB\n",
    "from sklearn.ensemble import RandomForestClassifier\n",
    "from sklearn.model_selection import cross_val_score\n",
    "from sklearn.metrics import classification_report\n",
    "from sklearn.metrics import confusion_matrix\n",
    "import itertools \n",
    "class ModelCompr:\n",
    "    \"\"\"\n",
    "    Class to compare the performance of different models using cv.\n",
    "    You can also input only one model(in list) and evaluate its performance.\n",
    "    \"\"\"\n",
    "    def __init__(self, models, X, Y):\n",
    "        \"\"\"\n",
    "        Save the models to list, and fit the models\n",
    "        \"\"\"\n",
    "        self.models = models\n",
    "        self.X = X\n",
    "        self.Y = Y\n",
    "        for m in self.models:\n",
    "            try:\n",
    "                m.fit(self.X, self.Y)\n",
    "            except:\n",
    "                print('An error occurred.')\n",
    "        self.scores = [] #list of cv scores for each model\n",
    "        self.model_names = [] #model names list\n",
    "        self.fold = 0 #fold number\n",
    "        self.cms = [] #confusion matrix list\n",
    "    def cross_validate(self, n_fold):\n",
    "        \"\"\"\n",
    "        Conduct cv for each model\n",
    "        :param data: number of fold\n",
    "        :return: None\n",
    "        \"\"\"\n",
    "        self.fold = n_fold\n",
    "        for clf in self.models:\n",
    "            model_name = str(clf)\n",
    "            self.model_names.append(model_name[:model_name.index('(')])\n",
    "            scores = cross_val_score(clf, self.X, self.Y, cv=n_fold)\n",
    "            self.scores.append(scores)\n",
    "    def compr(self):\n",
    "        \"\"\"\n",
    "        Compare the perfomance of each model at each cv\n",
    "        \"\"\"\n",
    "        ax = plt.subplot()\n",
    "        ax.set_xticks(range(self.fold))\n",
    "        for i in range(len(self.models)):\n",
    "            plt.plot(self.scores[i], label=self.model_names[i])\n",
    "        plt.legend(bbox_to_anchor=(1.05, 1), loc=2, borderaxespad=0.)\n",
    "        plt.grid(True)\n",
    "        plt.show()\n",
    "    def comprAccAVG(self):\n",
    "        \"\"\"\n",
    "        Print the accs by decreasing order for each algorithms.\n",
    "        :return: None\n",
    "        \"\"\"\n",
    "        dic = {}\n",
    "        for i in range(len(self.models)):\n",
    "            dic[self.model_names[i]] = sum(self.scores[i])/self.fold            \n",
    "        for w in sorted(dic, key=dic.get, reverse=True):\n",
    "            print (\"%s has avg. accucy of: %s\" % (w, dic[w]))\n",
    "    def accOnTest(self, testX, testY):\n",
    "        for i in range(len(self.models)):\n",
    "            y_test_pred = self.models[i].predict(testX)\n",
    "            cnf_matrix = confusion_matrix(testY, y_test_pred)\n",
    "            self.cms.append(cnf_matrix)\n",
    "            print(self.model_names[i])\n",
    "            print(classification_report(testY, y_test_pred))\n",
    "            print(\"------------------------------------------------------\")\n",
    "    def plotConfusionMatrix(self, cm, classes,\n",
    "                              normalize=True,\n",
    "                              title='Confusion matrix',\n",
    "                              cmap=plt.cm.Blues):\n",
    "        \"\"\"\n",
    "        This function prints and plots the confusion matrix.\n",
    "        Normalization can be applied by setting `normalize=True`.\n",
    "        \"\"\"\n",
    "        if normalize:\n",
    "            cm = cm.astype('float') / cm.sum(axis=1)[:, np.newaxis]\n",
    "            print(\"Normalized confusion matrix\")\n",
    "        else:\n",
    "            print('Confusion matrix, without normalization')\n",
    "\n",
    "        print(cm)\n",
    "\n",
    "        plt.imshow(cm, interpolation='nearest', cmap=cmap)\n",
    "        plt.title(title)\n",
    "        plt.colorbar()\n",
    "        tick_marks = np.arange(len(classes))\n",
    "        plt.xticks(tick_marks, classes, rotation=45)\n",
    "        plt.yticks(tick_marks, classes)\n",
    "\n",
    "        fmt = '.2f' if normalize else 'd'\n",
    "        thresh = cm.max() / 2.\n",
    "        for i, j in itertools.product(range(cm.shape[0]), range(cm.shape[1])):\n",
    "            plt.text(j, i, format(cm[i, j], fmt),\n",
    "                     horizontalalignment=\"center\",\n",
    "                     color=\"white\" if cm[i, j] > thresh else \"black\")\n",
    "\n",
    "        plt.tight_layout()\n",
    "        plt.ylabel('True label')\n",
    "        plt.xlabel('Predicted label')\n",
    "    def compareCMs(self):\n",
    "        \"\"\"\n",
    "        Compare the confusion matrix of all seleted algorithms.\n",
    "        \"\"\"\n",
    "        for i in range(len(self.models)):\n",
    "            print(self.model_names[i]) \n",
    "            plt.figure()\n",
    "            if label_dict.values():\n",
    "                class_names = label_dict.values()\n",
    "            self.plotConfusionMatrix(self.cms[i], classes=class_names, normalize=True,\n",
    "                      title='Confusion matrix, normalization')\n",
    "            plt.show()\n",
    "            print(\"------------------------------------------------------\")       "
   ]
  },
  {
   "cell_type": "code",
   "execution_count": 12,
   "metadata": {
    "collapsed": true
   },
   "outputs": [],
   "source": [
    "logreg = linear_model.LogisticRegression(C=1e5)\n",
    "svm = SVC(kernel=\"linear\")\n",
    "nb = MultinomialNB()\n",
    "rf = RandomForestClassifier(max_depth=10, random_state=0)"
   ]
  },
  {
   "cell_type": "code",
   "execution_count": 13,
   "metadata": {},
   "outputs": [
    {
     "data": {
      "image/png": "[encoded data removed]",
      "text/plain": [
       "<matplotlib.figure.Figure at 0x2bede3538d0>"
      ]
     },
     "metadata": {},
     "output_type": "display_data"
    }
   ],
   "source": [
    "mc = ModelCompr([logreg, svm, nb, rf], trainX, trainY)\n",
    "mc.cross_validate(10)\n",
    "mc.compr()"
   ]
  },
  {
   "cell_type": "code",
   "execution_count": 14,
   "metadata": {},
   "outputs": [
    {
     "name": "stdout",
     "output_type": "stream",
     "text": [
      "RandomForestClassifier has avg. accucy of: 0.94341693425\n",
      "SVC has avg. accucy of: 0.93884993889\n",
      "LogisticRegression has avg. accucy of: 0.898339179792\n",
      "MultinomialNB has avg. accucy of: 0.848778971277\n"
     ]
    }
   ],
   "source": [
    "mc.comprAccAVG()"
   ]
  },
  {
   "cell_type": "code",
   "execution_count": 15,
   "metadata": {},
   "outputs": [
    {
     "name": "stdout",
     "output_type": "stream",
     "text": [
      "LogisticRegression\n",
      "             precision    recall  f1-score   support\n",
      "\n",
      "          0       0.83      0.85      0.84        46\n",
      "          1       0.67      0.40      0.50         5\n",
      "          2       0.95      0.96      0.95       116\n",
      "          3       1.00      1.00      1.00         6\n",
      "\n",
      "avg / total       0.91      0.91      0.91       173\n",
      "\n",
      "------------------------------------------------------\n",
      "SVC\n",
      "             precision    recall  f1-score   support\n",
      "\n",
      "          0       0.89      0.91      0.90        46\n",
      "          1       0.83      1.00      0.91         5\n",
      "          2       0.97      0.96      0.97       116\n",
      "          3       1.00      1.00      1.00         6\n",
      "\n",
      "avg / total       0.95      0.95      0.95       173\n",
      "\n",
      "------------------------------------------------------\n",
      "MultinomialNB\n",
      "             precision    recall  f1-score   support\n",
      "\n",
      "          0       0.77      0.72      0.74        46\n",
      "          1       0.67      0.40      0.50         5\n",
      "          2       0.90      0.96      0.93       116\n",
      "          3       1.00      0.67      0.80         6\n",
      "\n",
      "avg / total       0.86      0.87      0.86       173\n",
      "\n",
      "------------------------------------------------------\n",
      "RandomForestClassifier\n",
      "             precision    recall  f1-score   support\n",
      "\n",
      "          0       0.89      0.91      0.90        46\n",
      "          1       0.75      0.60      0.67         5\n",
      "          2       0.97      0.97      0.97       116\n",
      "          3       0.86      1.00      0.92         6\n",
      "\n",
      "avg / total       0.94      0.94      0.94       173\n",
      "\n",
      "------------------------------------------------------\n"
     ]
    }
   ],
   "source": [
    "mc.accOnTest(testX, testY)"
   ]
  },
  {
   "cell_type": "code",
   "execution_count": 16,
   "metadata": {},
   "outputs": [
    {
     "name": "stdout",
     "output_type": "stream",
     "text": [
      "LogisticRegression\n",
      "Normalized confusion matrix\n",
      "[[ 0.84782609  0.02173913  0.13043478  0.        ]\n",
      " [ 0.6         0.4         0.          0.        ]\n",
      " [ 0.04310345  0.          0.95689655  0.        ]\n",
      " [ 0.          0.          0.          1.        ]]\n"
     ]
    },
    {
     "data": {
      "image/png": "[encoded data removed]",
      "text/plain": [
       "<matplotlib.figure.Figure at 0x2bede34f4a8>"
      ]
     },
     "metadata": {},
     "output_type": "display_data"
    },
    {
     "name": "stdout",
     "output_type": "stream",
     "text": [
      "------------------------------------------------------\n",
      "SVC\n",
      "Normalized confusion matrix\n",
      "[[ 0.91304348  0.02173913  0.06521739  0.        ]\n",
      " [ 0.          1.          0.          0.        ]\n",
      " [ 0.04310345  0.          0.95689655  0.        ]\n",
      " [ 0.          0.          0.          1.        ]]\n"
     ]
    },
    {
     "data": {
      "image/png": "[encoded data removed]",
      "text/plain": [
       "<matplotlib.figure.Figure at 0x2bee04a5438>"
      ]
     },
     "metadata": {},
     "output_type": "display_data"
    },
    {
     "name": "stdout",
     "output_type": "stream",
     "text": [
      "------------------------------------------------------\n",
      "MultinomialNB\n",
      "Normalized confusion matrix\n",
      "[[ 0.7173913   0.02173913  0.26086957  0.        ]\n",
      " [ 0.6         0.4         0.          0.        ]\n",
      " [ 0.04310345  0.          0.95689655  0.        ]\n",
      " [ 0.33333333  0.          0.          0.66666667]]\n"
     ]
    },
    {
     "data": {
      "image/png": "[encoded data removed]",
      "text/plain": [
       "<matplotlib.figure.Figure at 0x2bee06c0dd8>"
      ]
     },
     "metadata": {},
     "output_type": "display_data"
    },
    {
     "name": "stdout",
     "output_type": "stream",
     "text": [
      "------------------------------------------------------\n",
      "RandomForestClassifier\n",
      "Normalized confusion matrix\n",
      "[[ 0.91304348  0.          0.06521739  0.02173913]\n",
      " [ 0.4         0.6         0.          0.        ]\n",
      " [ 0.02586207  0.00862069  0.96551724  0.        ]\n",
      " [ 0.          0.          0.          1.        ]]\n"
     ]
    },
    {
     "data": {
      "image/png": "[encoded data removed]",
      "text/plain": [
       "<matplotlib.figure.Figure at 0x2bee0666438>"
      ]
     },
     "metadata": {},
     "output_type": "display_data"
    },
    {
     "name": "stdout",
     "output_type": "stream",
     "text": [
      "------------------------------------------------------\n"
     ]
    }
   ],
   "source": [
    "mc.compareCMs()"
   ]
  },
  {
   "cell_type": "markdown",
   "metadata": {},
   "source": [
    "## Feature selection and model improvement"
   ]
  },
  {
   "cell_type": "code",
   "execution_count": 17,
   "metadata": {
    "collapsed": true
   },
   "outputs": [],
   "source": [
    "from sklearn.model_selection import StratifiedKFold\n",
    "from sklearn.feature_selection import RFECV\n",
    "from sklearn.datasets import make_classification"
   ]
  },
  {
   "cell_type": "code",
   "execution_count": 18,
   "metadata": {
    "collapsed": true
   },
   "outputs": [],
   "source": [
    "class FeatureSelection:\n",
    "    \"\"\"\n",
    "    Given a model, impletement FS.\n",
    "    Feature ranking with recursive feature elimination and cross-validated \n",
    "    selection of the best number of features.\n",
    "    rfecv. support_ :array of shape [n_features] : The mask of selected features.\n",
    "    rfecv.ranking_:\n",
    "    The feature ranking, such that ranking_[i] corresponds to the ranking position of the i-th feature. \n",
    "    Selected (i.e., estimated best) features are assigned rank 1.\n",
    "    \"\"\"\n",
    "    def __init__(self, model, trainX, trainY, k = 2, scoring = \"accuracy\"):\n",
    "        self.model = model #the model you use\n",
    "        self.X = trainX #training data input\n",
    "        self.Y = trainY #training data labels\n",
    "        self.k = k #fold number\n",
    "        self.scoring = scoring #criteria\n",
    "        self.rfecv = None\n",
    "        self.y_train_pred = self.model.predict(self.X)\n",
    "        self.already_selected = False\n",
    "    def featureSelection(self):\n",
    "        \"\"\"\n",
    "        Perform feature selection via cv.\n",
    "        \"\"\"\n",
    "        self.rfecv = RFECV(estimator=self.model, step=1, cv=StratifiedKFold(self.k), scoring=self.scoring)\n",
    "        self.rfecv.fit(self.X, self.Y)\n",
    "        print(\"Optimal number of features : %d\" % self.rfecv.n_features_)\n",
    "        self.X_r = self.rfecv.transform(self.X)\n",
    "        self.model.fit(self.X_r, self.Y)\n",
    "        self.new_y_train_pred = self.model.predict(self.X_r)\n",
    "\n",
    "    def showPlot(self):\n",
    "        \"\"\"\n",
    "        Plot the change of cv score versus the numbers of features selected\n",
    "        \"\"\"\n",
    "        self.featureSelection()\n",
    "        self.already_selected = True\n",
    "        # Plot number of features VS. cross-validation scores\n",
    "        plt.figure()\n",
    "        plt.xlabel(\"Number of features selected\")\n",
    "        plt.ylabel(\"Cross validation score (nb of correct classifications)\")\n",
    "        plt.plot(range(1, len(self.rfecv.grid_scores_) + 1), self.rfecv.grid_scores_)\n",
    "        plt.show()\n",
    "    def report(self):\n",
    "        \"\"\"\n",
    "        Report feature selection report.\n",
    "        \"\"\"\n",
    "        if not self.already_selected:\n",
    "            self.featureSelection()\n",
    "        print(\"rfecv.support_: (features mask)\")\n",
    "        print (self.rfecv.support_)\n",
    "        print(\"rfecv.ranking_: (ranking of the features)\")\n",
    "        print (self.rfecv.ranking_)\n",
    "        print()\n",
    "        print(\"Before feature selection: \")\n",
    "        print(classification_report(self.Y, self.y_train_pred))\n",
    "        print(\"After feature selection: \")\n",
    "        print(classification_report(self.Y, self.new_y_train_pred))  \n"
   ]
  },
  {
   "cell_type": "code",
   "execution_count": 19,
   "metadata": {
    "collapsed": true
   },
   "outputs": [],
   "source": [
    "logreg = linear_model.LogisticRegression(C=1e5) #the model you wish to use\n",
    "logreg.fit(trainX, trainY) #fit the model before feature selection\n",
    "fs = FeatureSelection(logreg, trainX, trainY, k=5) #build a FeatureSelection class to perform the task"
   ]
  },
  {
   "cell_type": "code",
   "execution_count": 20,
   "metadata": {},
   "outputs": [
    {
     "name": "stdout",
     "output_type": "stream",
     "text": [
      "Optimal number of features : 21\n"
     ]
    },
    {
     "data": {
      "image/png": "[encoded data removed]",
      "text/plain": [
       "<matplotlib.figure.Figure at 0x1fd4eca2710>"
      ]
     },
     "metadata": {},
     "output_type": "display_data"
    }
   ],
   "source": [
    "fs.showPlot()"
   ]
  },
  {
   "cell_type": "code",
   "execution_count": 21,
   "metadata": {},
   "outputs": [
    {
     "name": "stdout",
     "output_type": "stream",
     "text": [
      "rfecv.support_: (features mask)\n",
      "[ True  True  True  True  True  True  True  True  True  True  True  True\n",
      "  True  True  True  True  True  True  True  True  True]\n",
      "rfecv.ranking_: (ranking of the features)\n",
      "[1 1 1 1 1 1 1 1 1 1 1 1 1 1 1 1 1 1 1 1 1]\n",
      "\n",
      "Before feature selection: \n",
      "             precision    recall  f1-score   support\n",
      "\n",
      "          0       0.78      0.86      0.82       337\n",
      "          1       0.53      0.28      0.37        61\n",
      "          2       0.97      0.97      0.97      1096\n",
      "          3       0.92      0.89      0.90        61\n",
      "\n",
      "avg / total       0.91      0.91      0.91      1555\n",
      "\n",
      "After feature selection: \n",
      "             precision    recall  f1-score   support\n",
      "\n",
      "          0       0.78      0.86      0.82       337\n",
      "          1       0.53      0.28      0.37        61\n",
      "          2       0.97      0.97      0.97      1096\n",
      "          3       0.92      0.89      0.90        61\n",
      "\n",
      "avg / total       0.91      0.91      0.91      1555\n",
      "\n"
     ]
    }
   ],
   "source": [
    "fs.report()"
   ]
  },
  {
   "cell_type": "markdown",
   "metadata": {},
   "source": [
    "## Hyper-parameters tuning using grid search method"
   ]
  },
  {
   "cell_type": "code",
   "execution_count": 22,
   "metadata": {
    "collapsed": true
   },
   "outputs": [],
   "source": [
    "from sklearn.model_selection import GridSearchCV"
   ]
  },
  {
   "cell_type": "code",
   "execution_count": 23,
   "metadata": {},
   "outputs": [
    {
     "name": "stdout",
     "output_type": "stream",
     "text": [
      "# Tuning hyper-parameters for precision\n",
      "\n"
     ]
    },
    {
     "name": "stderr",
     "output_type": "stream",
     "text": [
      "E:\\Anaconda\\Anaconda4.0\\envs\\py36\\lib\\site-packages\\sklearn\\metrics\\classification.py:1135: UndefinedMetricWarning: Precision is ill-defined and being set to 0.0 in labels with no predicted samples.\n",
      "  'precision', 'predicted', average, warn_for)\n",
      "E:\\Anaconda\\Anaconda4.0\\envs\\py36\\lib\\site-packages\\sklearn\\metrics\\classification.py:1135: UndefinedMetricWarning: Precision is ill-defined and being set to 0.0 in labels with no predicted samples.\n",
      "  'precision', 'predicted', average, warn_for)\n",
      "E:\\Anaconda\\Anaconda4.0\\envs\\py36\\lib\\site-packages\\sklearn\\metrics\\classification.py:1135: UndefinedMetricWarning: Precision is ill-defined and being set to 0.0 in labels with no predicted samples.\n",
      "  'precision', 'predicted', average, warn_for)\n",
      "E:\\Anaconda\\Anaconda4.0\\envs\\py36\\lib\\site-packages\\sklearn\\metrics\\classification.py:1135: UndefinedMetricWarning: Precision is ill-defined and being set to 0.0 in labels with no predicted samples.\n",
      "  'precision', 'predicted', average, warn_for)\n",
      "E:\\Anaconda\\Anaconda4.0\\envs\\py36\\lib\\site-packages\\sklearn\\metrics\\classification.py:1135: UndefinedMetricWarning: Precision is ill-defined and being set to 0.0 in labels with no predicted samples.\n",
      "  'precision', 'predicted', average, warn_for)\n",
      "E:\\Anaconda\\Anaconda4.0\\envs\\py36\\lib\\site-packages\\sklearn\\metrics\\classification.py:1135: UndefinedMetricWarning: Precision is ill-defined and being set to 0.0 in labels with no predicted samples.\n",
      "  'precision', 'predicted', average, warn_for)\n",
      "E:\\Anaconda\\Anaconda4.0\\envs\\py36\\lib\\site-packages\\sklearn\\metrics\\classification.py:1135: UndefinedMetricWarning: Precision is ill-defined and being set to 0.0 in labels with no predicted samples.\n",
      "  'precision', 'predicted', average, warn_for)\n",
      "E:\\Anaconda\\Anaconda4.0\\envs\\py36\\lib\\site-packages\\sklearn\\metrics\\classification.py:1135: UndefinedMetricWarning: Precision is ill-defined and being set to 0.0 in labels with no predicted samples.\n",
      "  'precision', 'predicted', average, warn_for)\n",
      "E:\\Anaconda\\Anaconda4.0\\envs\\py36\\lib\\site-packages\\sklearn\\metrics\\classification.py:1135: UndefinedMetricWarning: Precision is ill-defined and being set to 0.0 in labels with no predicted samples.\n",
      "  'precision', 'predicted', average, warn_for)\n",
      "E:\\Anaconda\\Anaconda4.0\\envs\\py36\\lib\\site-packages\\sklearn\\metrics\\classification.py:1135: UndefinedMetricWarning: Precision is ill-defined and being set to 0.0 in labels with no predicted samples.\n",
      "  'precision', 'predicted', average, warn_for)\n",
      "E:\\Anaconda\\Anaconda4.0\\envs\\py36\\lib\\site-packages\\sklearn\\metrics\\classification.py:1135: UndefinedMetricWarning: Precision is ill-defined and being set to 0.0 in labels with no predicted samples.\n",
      "  'precision', 'predicted', average, warn_for)\n",
      "E:\\Anaconda\\Anaconda4.0\\envs\\py36\\lib\\site-packages\\sklearn\\metrics\\classification.py:1135: UndefinedMetricWarning: Precision is ill-defined and being set to 0.0 in labels with no predicted samples.\n",
      "  'precision', 'predicted', average, warn_for)\n",
      "E:\\Anaconda\\Anaconda4.0\\envs\\py36\\lib\\site-packages\\sklearn\\metrics\\classification.py:1135: UndefinedMetricWarning: Precision is ill-defined and being set to 0.0 in labels with no predicted samples.\n",
      "  'precision', 'predicted', average, warn_for)\n",
      "E:\\Anaconda\\Anaconda4.0\\envs\\py36\\lib\\site-packages\\sklearn\\metrics\\classification.py:1135: UndefinedMetricWarning: Precision is ill-defined and being set to 0.0 in labels with no predicted samples.\n",
      "  'precision', 'predicted', average, warn_for)\n",
      "E:\\Anaconda\\Anaconda4.0\\envs\\py36\\lib\\site-packages\\sklearn\\metrics\\classification.py:1135: UndefinedMetricWarning: Precision is ill-defined and being set to 0.0 in labels with no predicted samples.\n",
      "  'precision', 'predicted', average, warn_for)\n",
      "E:\\Anaconda\\Anaconda4.0\\envs\\py36\\lib\\site-packages\\sklearn\\metrics\\classification.py:1135: UndefinedMetricWarning: Precision is ill-defined and being set to 0.0 in labels with no predicted samples.\n",
      "  'precision', 'predicted', average, warn_for)\n",
      "E:\\Anaconda\\Anaconda4.0\\envs\\py36\\lib\\site-packages\\sklearn\\metrics\\classification.py:1135: UndefinedMetricWarning: Precision is ill-defined and being set to 0.0 in labels with no predicted samples.\n",
      "  'precision', 'predicted', average, warn_for)\n",
      "E:\\Anaconda\\Anaconda4.0\\envs\\py36\\lib\\site-packages\\sklearn\\metrics\\classification.py:1135: UndefinedMetricWarning: Precision is ill-defined and being set to 0.0 in labels with no predicted samples.\n",
      "  'precision', 'predicted', average, warn_for)\n",
      "E:\\Anaconda\\Anaconda4.0\\envs\\py36\\lib\\site-packages\\sklearn\\metrics\\classification.py:1135: UndefinedMetricWarning: Precision is ill-defined and being set to 0.0 in labels with no predicted samples.\n",
      "  'precision', 'predicted', average, warn_for)\n",
      "E:\\Anaconda\\Anaconda4.0\\envs\\py36\\lib\\site-packages\\sklearn\\metrics\\classification.py:1135: UndefinedMetricWarning: Precision is ill-defined and being set to 0.0 in labels with no predicted samples.\n",
      "  'precision', 'predicted', average, warn_for)\n",
      "E:\\Anaconda\\Anaconda4.0\\envs\\py36\\lib\\site-packages\\sklearn\\metrics\\classification.py:1135: UndefinedMetricWarning: Precision is ill-defined and being set to 0.0 in labels with no predicted samples.\n",
      "  'precision', 'predicted', average, warn_for)\n",
      "E:\\Anaconda\\Anaconda4.0\\envs\\py36\\lib\\site-packages\\sklearn\\metrics\\classification.py:1135: UndefinedMetricWarning: Precision is ill-defined and being set to 0.0 in labels with no predicted samples.\n",
      "  'precision', 'predicted', average, warn_for)\n",
      "E:\\Anaconda\\Anaconda4.0\\envs\\py36\\lib\\site-packages\\sklearn\\metrics\\classification.py:1135: UndefinedMetricWarning: Precision is ill-defined and being set to 0.0 in labels with no predicted samples.\n",
      "  'precision', 'predicted', average, warn_for)\n",
      "E:\\Anaconda\\Anaconda4.0\\envs\\py36\\lib\\site-packages\\sklearn\\metrics\\classification.py:1135: UndefinedMetricWarning: Precision is ill-defined and being set to 0.0 in labels with no predicted samples.\n",
      "  'precision', 'predicted', average, warn_for)\n",
      "E:\\Anaconda\\Anaconda4.0\\envs\\py36\\lib\\site-packages\\sklearn\\metrics\\classification.py:1135: UndefinedMetricWarning: Precision is ill-defined and being set to 0.0 in labels with no predicted samples.\n",
      "  'precision', 'predicted', average, warn_for)\n"
     ]
    },
    {
     "name": "stdout",
     "output_type": "stream",
     "text": [
      "Best parameters set found on development set:\n",
      "\n",
      "{'C': 1000, 'kernel': 'linear'}\n",
      "\n",
      "Grid scores on development set:\n",
      "\n",
      "0.176 (+/-0.001) for {'C': 1, 'gamma': 0.001, 'kernel': 'rbf'}\n",
      "0.176 (+/-0.001) for {'C': 1, 'gamma': 0.0001, 'kernel': 'rbf'}\n",
      "0.373 (+/-0.029) for {'C': 10, 'gamma': 0.001, 'kernel': 'rbf'}\n",
      "0.176 (+/-0.001) for {'C': 10, 'gamma': 0.0001, 'kernel': 'rbf'}\n",
      "0.823 (+/-0.069) for {'C': 100, 'gamma': 0.001, 'kernel': 'rbf'}\n",
      "0.373 (+/-0.029) for {'C': 100, 'gamma': 0.0001, 'kernel': 'rbf'}\n",
      "0.905 (+/-0.098) for {'C': 1000, 'gamma': 0.001, 'kernel': 'rbf'}\n",
      "0.823 (+/-0.067) for {'C': 1000, 'gamma': 0.0001, 'kernel': 'rbf'}\n",
      "0.885 (+/-0.084) for {'C': 1, 'kernel': 'linear'}\n",
      "0.914 (+/-0.069) for {'C': 10, 'kernel': 'linear'}\n",
      "0.920 (+/-0.071) for {'C': 100, 'kernel': 'linear'}\n",
      "0.921 (+/-0.076) for {'C': 1000, 'kernel': 'linear'}\n",
      "\n",
      "Detailed classification report:\n",
      "\n",
      "The model is trained on the full development set.\n",
      "The scores are computed on the full evaluation set.\n",
      "\n",
      "             precision    recall  f1-score   support\n",
      "\n",
      "          0       0.86      0.81      0.84        47\n",
      "          1       1.00      1.00      1.00         8\n",
      "          2       0.92      0.95      0.94       114\n",
      "          3       1.00      1.00      1.00         4\n",
      "\n",
      "avg / total       0.91      0.91      0.91       173\n",
      "\n",
      "\n",
      "# Tuning hyper-parameters for recall\n",
      "\n",
      "Best parameters set found on development set:\n",
      "\n",
      "{'C': 100, 'kernel': 'linear'}\n",
      "\n",
      "Grid scores on development set:\n",
      "\n",
      "0.250 (+/-0.000) for {'C': 1, 'gamma': 0.001, 'kernel': 'rbf'}\n",
      "0.250 (+/-0.000) for {'C': 1, 'gamma': 0.0001, 'kernel': 'rbf'}\n",
      "0.405 (+/-0.046) for {'C': 10, 'gamma': 0.001, 'kernel': 'rbf'}\n",
      "0.250 (+/-0.000) for {'C': 10, 'gamma': 0.0001, 'kernel': 'rbf'}\n",
      "0.786 (+/-0.053) for {'C': 100, 'gamma': 0.001, 'kernel': 'rbf'}\n",
      "0.404 (+/-0.046) for {'C': 100, 'gamma': 0.0001, 'kernel': 'rbf'}\n",
      "0.895 (+/-0.133) for {'C': 1000, 'gamma': 0.001, 'kernel': 'rbf'}\n",
      "0.786 (+/-0.050) for {'C': 1000, 'gamma': 0.0001, 'kernel': 'rbf'}\n",
      "0.842 (+/-0.100) for {'C': 1, 'kernel': 'linear'}\n",
      "0.877 (+/-0.072) for {'C': 10, 'kernel': 'linear'}\n",
      "0.911 (+/-0.065) for {'C': 100, 'kernel': 'linear'}\n",
      "0.907 (+/-0.071) for {'C': 1000, 'kernel': 'linear'}\n",
      "\n",
      "Detailed classification report:\n",
      "\n",
      "The model is trained on the full development set.\n",
      "The scores are computed on the full evaluation set.\n",
      "\n",
      "             precision    recall  f1-score   support\n",
      "\n",
      "          0       0.86      0.81      0.84        47\n",
      "          1       1.00      1.00      1.00         8\n",
      "          2       0.92      0.95      0.94       114\n",
      "          3       1.00      1.00      1.00         4\n",
      "\n",
      "avg / total       0.91      0.91      0.91       173\n",
      "\n",
      "\n"
     ]
    }
   ],
   "source": [
    "def gridSearchTuning():\n",
    "    # Set the parameters by cross-validation\n",
    "    tuned_parameters = [{'kernel': ['rbf'], 'gamma': [1e-3, 1e-4],\n",
    "                         'C': [1, 10, 100, 1000]},\n",
    "                        {'kernel': ['linear'], 'C': [1, 10, 100, 1000]}]\n",
    "\n",
    "    scores = ['precision', 'recall']\n",
    "\n",
    "    for score in scores:\n",
    "        print(\"# Tuning hyper-parameters for %s\" % score)\n",
    "        print()\n",
    "        try:\n",
    "            clf = GridSearchCV(SVC(), tuned_parameters, cv=5, scoring='%s_macro' % score)\n",
    "            clf.fit(trainX, trainY)\n",
    "        except:\n",
    "            print(\"err\")\n",
    "\n",
    "        print(\"Best parameters set found on development set:\")\n",
    "        print()\n",
    "        print(clf.best_params_)\n",
    "        print()\n",
    "        print(\"Grid scores on development set:\")\n",
    "        print()\n",
    "        means = clf.cv_results_['mean_test_score']\n",
    "        stds = clf.cv_results_['std_test_score']\n",
    "        for mean, std, params in zip(means, stds, clf.cv_results_['params']):\n",
    "            print(\"%0.3f (+/-%0.03f) for %r\" % (mean, std * 2, params))\n",
    "        print()\n",
    "\n",
    "        print(\"Detailed classification report:\")\n",
    "        print()\n",
    "        print(\"The model is trained on the full development set.\")\n",
    "        print(\"The scores are computed on the full evaluation set.\")\n",
    "        print()\n",
    "        y_true, y_pred = testY, clf.predict(testX)\n",
    "        print(classification_report(y_true, y_pred))\n",
    "        print()\n",
    "\n",
    "        \n",
    "gridSearchTuning()"
   ]
  },
  {
   "cell_type": "markdown",
   "metadata": {},
   "source": [
    "## ANN with Tensorflow"
   ]
  },
  {
   "cell_type": "code",
   "execution_count": 36,
   "metadata": {
    "collapsed": true
   },
   "outputs": [],
   "source": [
    "import tensorflow as tf\n",
    "\n",
    "\n",
    "learning_rate = 0.015\n",
    "training_epochs = 30\n",
    "batch_size = 20\n",
    "display_step = 1\n",
    "\n",
    "x = tf.placeholder(tf.float32, [None, 21])\n",
    "y = tf.placeholder(tf.float32, [None, 4])\n",
    "\n",
    "W1 = tf.Variable(tf.zeros([21, 8]))\n",
    "b1 = tf.Variable(tf.zeros([8]))\n",
    "y1 = tf.matmul(x, W1) + b1\n",
    "\n",
    "W2 = tf.Variable(tf.zeros([8, 4]))\n",
    "b2 = tf.Variable(tf.zeros([4]))\n",
    "pred = tf.nn.softmax(tf.matmul(tf.nn.tanh(y1), W2) + b2)\n",
    "\n",
    "cost = tf.reduce_mean(-tf.reduce_sum(y*tf.log(pred), reduction_indices=1))\n",
    "\n",
    "optimizer = tf.train.GradientDescentOptimizer(learning_rate).minimize(cost)"
   ]
  },
  {
   "cell_type": "code",
   "execution_count": 37,
   "metadata": {
    "collapsed": true
   },
   "outputs": [],
   "source": [
    "def next_batch(num, data, labels):\n",
    "    '''\n",
    "    Return a total of `num` random samples and labels. \n",
    "    '''\n",
    "    idx = np.arange(0, len(data))\n",
    "    np.random.shuffle(idx)\n",
    "    idx = idx[:num]\n",
    "    data_shuffle = [data.iloc[i,:] for i in idx]\n",
    "    labels_shuffle = [labels.iloc[i,:] for i in idx]\n",
    "    return np.asarray(data_shuffle), np.asarray(labels_shuffle)"
   ]
  },
  {
   "cell_type": "code",
   "execution_count": 38,
   "metadata": {
    "collapsed": true
   },
   "outputs": [],
   "source": [
    "trainY_dummy = pd.get_dummies(trainY)\n",
    "testY_dummy = pd.get_dummies(testY)"
   ]
  },
  {
   "cell_type": "code",
   "execution_count": 41,
   "metadata": {},
   "outputs": [
    {
     "name": "stdout",
     "output_type": "stream",
     "text": [
      "Epoch: 0001 cost= 1.252693469\n",
      "Epoch: 0002 cost= 1.070740837\n",
      "Epoch: 0003 cost= 0.962120479\n",
      "Epoch: 0004 cost= 0.905810276\n",
      "Epoch: 0005 cost= 0.913339963\n",
      "Epoch: 0006 cost= 0.871517263\n",
      "Epoch: 0007 cost= 0.861921915\n",
      "Epoch: 0008 cost= 0.854102481\n",
      "Epoch: 0009 cost= 0.852761642\n",
      "Epoch: 0010 cost= 0.823639061\n",
      "Epoch: 0011 cost= 0.805162187\n",
      "Epoch: 0012 cost= 0.841370312\n",
      "Epoch: 0013 cost= 0.854349124\n",
      "Epoch: 0014 cost= 0.855876741\n",
      "Epoch: 0015 cost= 0.804309315\n",
      "Epoch: 0016 cost= 0.818553925\n",
      "Epoch: 0017 cost= 0.832427579\n",
      "Epoch: 0018 cost= 0.820378979\n",
      "Epoch: 0019 cost= 0.848473357\n",
      "Epoch: 0020 cost= 0.829013869\n",
      "Epoch: 0021 cost= 0.851026409\n",
      "Epoch: 0022 cost= 0.816640855\n",
      "Epoch: 0023 cost= 0.813034991\n",
      "Epoch: 0024 cost= 0.813009907\n",
      "Epoch: 0025 cost= 0.854317592\n",
      "Epoch: 0026 cost= 0.871104436\n",
      "Epoch: 0027 cost= 0.830460737\n",
      "Epoch: 0028 cost= 0.820138070\n",
      "Epoch: 0029 cost= 0.872497038\n",
      "Epoch: 0030 cost= 0.797471845\n",
      "\n",
      "Accuracy: 0.704823\n"
     ]
    }
   ],
   "source": [
    "init = tf.global_variables_initializer()\n",
    "with tf.Session() as sess:\n",
    "    sess.run(init)\n",
    "    for epoch in range(training_epochs):\n",
    "        avg_cost = 0.\n",
    "        total_batch = int(len(trainX)/batch_size)\n",
    "        # Loop over batches\n",
    "        for i in range(total_batch):\n",
    "            batch_xs, batch_ys = next_batch(batch_size,trainX, trainY_dummy)\n",
    "            # Run optimization op (backprop) and cost op (to get loss value)\n",
    "            _, c = sess.run([optimizer, cost], feed_dict={x: batch_xs,\n",
    "                                                          y: batch_ys})            \n",
    "            avg_cost += c / total_batch\n",
    "        # Display logs per epoch step\n",
    "        if (epoch+1) % display_step == 0:\n",
    "            print(\"Epoch:\", '%04d' % (epoch+1), \"cost=\", \"{:.9f}\".format(avg_cost))\n",
    "    print()    \n",
    "    correct_prediction = tf.equal(tf.argmax(pred, 1), tf.argmax(y, 1)) \n",
    "    accuracy = tf.reduce_mean(tf.cast(correct_prediction, tf.float32))\n",
    "    print(\"Accuracy:\", accuracy.eval({x: trainX.as_matrix(), y: trainY_dummy.as_matrix()}))"
   ]
  },
  {
   "cell_type": "code",
   "execution_count": null,
   "metadata": {
    "collapsed": true
   },
   "outputs": [],
   "source": []
  },
  {
   "cell_type": "code",
   "execution_count": null,
   "metadata": {
    "collapsed": true
   },
   "outputs": [],
   "source": []
  },
  {
   "cell_type": "code",
   "execution_count": null,
   "metadata": {
    "collapsed": true
   },
   "outputs": [],
   "source": []
  },
  {
   "cell_type": "code",
   "execution_count": null,
   "metadata": {
    "collapsed": true
   },
   "outputs": [],
   "source": []
  }
 ],
 "metadata": {
  "kernelspec": {
   "display_name": "Python 3",
   "language": "python",
   "name": "python3"
  },
  "language_info": {
   "codemirror_mode": {
    "name": "ipython",
    "version": 3
   },
   "file_extension": ".py",
   "mimetype": "text/x-python",
   "name": "python",
   "nbconvert_exporter": "python",
   "pygments_lexer": "ipython3",
   "version": "3.6.1"
  }
 },
 "nbformat": 4,
 "nbformat_minor": 2
}
